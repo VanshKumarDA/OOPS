{
  "nbformat": 4,
  "nbformat_minor": 0,
  "metadata": {
    "colab": {
      "provenance": []
    },
    "kernelspec": {
      "name": "python3",
      "display_name": "Python 3"
    },
    "language_info": {
      "name": "python"
    }
  },
  "cells": [
    {
      "cell_type": "markdown",
      "source": [
        "##Theory\n"
      ],
      "metadata": {
        "id": "sDQ5h2P9ocqQ"
      }
    },
    {
      "cell_type": "markdown",
      "source": [
        "1. What is Object-Oriented Programming (OOP)?\n",
        "\n",
        " OOP is a programming paradigm that organizes software design around objects rather than functions or logic. OOP allows for more efficient and manageable code, especially for larger, complex systems. Core principles of OOP are Encapsulation, Abstraction, Polymorphism and Inheritance."
      ],
      "metadata": {
        "id": "z_hTXExLod_p"
      }
    },
    {
      "cell_type": "markdown",
      "source": [
        "2. What is a class in OOP?\n",
        "\n",
        " A class is a blueprint or template for creating objects. It defines the attributes (data) and methods (functions) that the objects created from the class will have. OOP helps you to arrange the required functions in respective classes. Key characterstics are Attributes/Properties & Methods/Functions."
      ],
      "metadata": {
        "id": "x-NennrIoePR"
      }
    },
    {
      "cell_type": "markdown",
      "source": [
        "3.  What is an object in OOP?\n",
        "\n",
        " An object is an instance of a class. It is a self-contained unit that encapsulates both data (attributes) and behavior (methods)-These are the key characterstics as well. Objects are created based on the blueprint or template defined by a class, and each object can have unique values for its attributes."
      ],
      "metadata": {
        "id": "Ndzl0rd3oeYT"
      }
    },
    {
      "cell_type": "markdown",
      "source": [
        "4. What is the difference between abstraction and encapsulation?\n",
        "\n",
        " Encapsulation-It refers to the bundling of data (attributes) and methods (functions) that operate on that data into a single unit. It also involves controlling access to the internal state of an object, typically through access modifiers like private, protected, and public.\n",
        "\n",
        " Abstraction-It is the concept of hiding the complex reality while exposing only the essential parts."
      ],
      "metadata": {
        "id": "EsP7vc8-oegu"
      }
    },
    {
      "cell_type": "markdown",
      "source": [
        "5. What are dunder methods in Python?\n",
        "\n",
        " Dunder/magic/special methods are the methods defined by built-in classes in python. Classes define these type of methods for creating customer objects. D+under>> double underscore>> all the methods surrounding double underscore is a dunder method."
      ],
      "metadata": {
        "id": "Ated3sRwoeng"
      }
    },
    {
      "cell_type": "markdown",
      "source": [
        "6. Explain the concept of inheritance in OOP.\n",
        "\n",
        " Inheritance allows a subclass to inherit the properties and behaviors of a superclass, promoting code reuse and making the system more flexible and maintainable. It is a mechanism that allows one class (called a subclass or child class) to inherit the attributes and methods from another class (called the superclass or parent class). Key points to remember: Code Reusability, Extensibility & Hierarchical Relationship."
      ],
      "metadata": {
        "id": "SBHgqr0zoeuV"
      }
    },
    {
      "cell_type": "markdown",
      "source": [
        "7. What is polymorphism in OOP?\n",
        "\n",
        " It allows objects of different classes to be treated as objects of a common superclass. It can also mean that the same method or operation can behave differently depending on the context (such as method overriding or method overloading)."
      ],
      "metadata": {
        "id": "8ZVa8dtGoe12"
      }
    },
    {
      "cell_type": "markdown",
      "source": [
        "8. How is encapsulation achieved in Python?\n",
        "\n",
        " It is a fundamental concept in OOP that involves bundling the data and the methods. It is achieved by Public access(They can be accessed and modified directly from outside the class.), Private access(We can make attributes or methods private by prefixing them with two underscores.) & Protected Access (A single underscore (__) convention is used to indicate that an attribute or method should be treated as protected."
      ],
      "metadata": {
        "id": "qmSal2rZoe9U"
      }
    },
    {
      "cell_type": "markdown",
      "source": [
        "9. What is a constructor in Python?\n",
        "\n",
        " A constructor is a special method used to initialize the attributes of an object when the object is created. It is automatically called when you create an instance of a class. The constructor is defined by the __init____() method in Python."
      ],
      "metadata": {
        "id": "AvMtsHFpofE6"
      }
    },
    {
      "cell_type": "code",
      "source": [
        "#Syntax of constructor\n",
        "#class ClassName:\n",
        "#    def __init__(self, parameter1, parameter2):\n",
        "        # Initialize object attributes\n",
        "#        self.attribute1 = parameter1\n",
        "#        self.attribute2 = parameter2"
      ],
      "metadata": {
        "id": "11CTLjlvzv7c"
      },
      "execution_count": null,
      "outputs": []
    },
    {
      "cell_type": "markdown",
      "source": [
        "10. What are class and static methods in Python?\n",
        "\n",
        " Class method-A class method is a method that is bound to the class rather than the instance of the class. It is used to operate on the class itself (rather than an instance), and it takes the class as its first argument (commonly named cls), instead of the instance (self).\n",
        "\n",
        " Static method-A static method is a method that is bound to the class, but it doesn't operate on the class or instance. It doesn't take self or cls as its first argument. It is simply a function that is logically associated with the class."
      ],
      "metadata": {
        "id": "E8JCYs-0ofOI"
      }
    },
    {
      "cell_type": "code",
      "source": [
        "#Syntax of class method\n",
        "#class MyClass:\n",
        "#    @classmethod\n",
        "#    def class_method(cls, ...):\n",
        "        # Method body"
      ],
      "metadata": {
        "id": "Ehx5-ZEC1YMy"
      },
      "execution_count": 3,
      "outputs": []
    },
    {
      "cell_type": "code",
      "source": [
        "#Syntax of static method\n",
        "#class MyClass:\n",
        "#    @staticmethod\n",
        "#    def static_method(...):\n",
        "        # Method body"
      ],
      "metadata": {
        "id": "1xrwAb7u1YhQ"
      },
      "execution_count": 4,
      "outputs": []
    },
    {
      "cell_type": "markdown",
      "source": [
        "11. What is method overloading in Python?\n",
        "\n",
        " Method overloading refers to the ability to define multiple methods with the same name but different signatures (i.e., different numbers or types of parameters) in a class. However, Python does not support method overloading in the traditional sense like some other languages (e.g., Java or C++), where you can have multiple methods with the same name but different parameters."
      ],
      "metadata": {
        "id": "4n8eDRoK1W7y"
      }
    },
    {
      "cell_type": "markdown",
      "source": [
        "12. What is method overriding in OOP?\n",
        "\n",
        " Overriding occurs when a method in a subclass has the same name, same parameters, and same signature as a method in its superclass. It also refers to the ability of a subclass (child class) to provide a new implementation for a method that is already defined in its superclass (parent class)."
      ],
      "metadata": {
        "id": "Ms4tw_0tofVq"
      }
    },
    {
      "cell_type": "markdown",
      "source": [
        "13. What is a property decorator in Python?\n",
        "\n",
        " It is used to define a method as a property. It allows method to be accessed as attribute. In other words, you can control access to the attributes of an object by turning methods into properties."
      ],
      "metadata": {
        "id": "0HUD4x-vofcn"
      }
    },
    {
      "cell_type": "markdown",
      "source": [
        "14. Why is polymorphism important in OOP?\n",
        "\n",
        " Polymorphism allows you to write more generic code that can work with objects of different types. This helps reduce redundancy and promotes code reuse. For example, a function can take objects of various subclasses as input without needing to know the exact type of the object. It can operate based on the common interface or parent class. It's easy to extend the system by adding new classes that implement the same interface or inherit from the same superclass."
      ],
      "metadata": {
        "id": "kQhTcWFC0K7I"
      }
    },
    {
      "cell_type": "markdown",
      "source": [
        "15. What are the advantages of OOP?\n",
        "\n",
        " Some advantages are: Modularity-This modular approach makes the code more organized, manageable, and reusable. Reusability-Reusing the codes, reducing redundancy and making it easier to build upon existing work. Flexibility and Maintainability-You can write functions or methods that work with objects of different classes, making it easier to scale and maintain your code. Better Problem Solving-This real-world modeling approach makes it easier to design systems, as objects interact just like they would in the real world, making the software more intuitive and easier to understand."
      ],
      "metadata": {
        "id": "hxSGw9gj0LIP"
      }
    },
    {
      "cell_type": "markdown",
      "source": [
        "16. What is multiple inheritance in Python?\n",
        "\n",
        " It refers to the concept where a class can inherit attributes and methods from more than one parent class. This allows a class to inherit the behaviors and properties of multiple classes, enabling greater flexibility and reuse of code."
      ],
      "metadata": {
        "id": "Lom3haIA0LVW"
      }
    },
    {
      "cell_type": "code",
      "source": [
        "#Short example of multiple inheritance\n",
        "class vehicle:\n",
        "    def info(self):\n",
        "        print('This is vehicle.')\n",
        "class car(vehicle):\n",
        "    def car_info(self, name):\n",
        "        print('This is car', name)\n",
        "class truck(vehicle):\n",
        "    def truck_info(self, name):\n",
        "        print('This is truck', name)"
      ],
      "metadata": {
        "id": "nzU9EV_q7iDe"
      },
      "execution_count": 8,
      "outputs": []
    },
    {
      "cell_type": "code",
      "source": [
        "C1=car()\n",
        "C1.info()"
      ],
      "metadata": {
        "colab": {
          "base_uri": "https://localhost:8080/"
        },
        "id": "GCfm3QqB7w5N",
        "outputId": "25cc52ae-fee9-451d-db41-8fb128913ca9"
      },
      "execution_count": 9,
      "outputs": [
        {
          "output_type": "stream",
          "name": "stdout",
          "text": [
            "This is vehicle.\n"
          ]
        }
      ]
    },
    {
      "cell_type": "code",
      "source": [
        "C1.car_info('Toyota')"
      ],
      "metadata": {
        "colab": {
          "base_uri": "https://localhost:8080/"
        },
        "id": "H4HBMNlc7xMY",
        "outputId": "67998070-9ef7-4bce-d1ef-729b3255880e"
      },
      "execution_count": 10,
      "outputs": [
        {
          "output_type": "stream",
          "name": "stdout",
          "text": [
            "This is car Toyota\n"
          ]
        }
      ]
    },
    {
      "cell_type": "markdown",
      "source": [
        "17.  Explain the purpose of ‘’__str__’ and ‘__repr__’ ‘ methods in Python?\n",
        "\n",
        " __str__() is for user-friendly output, whereas __repr__() is for developer-friendly output. __str__() should be readable and informative for an end user, while __repr__() should be detailed and potentially usable to recreate the object."
      ],
      "metadata": {
        "id": "8IVXPlx3ofj_"
      }
    },
    {
      "cell_type": "markdown",
      "source": [
        "18. What is the significance of the __del__ method in Python?\n",
        "\n",
        " The __del__() method is a destructor method that is called when an object is about to be destroyed or garbage collected. It is part of Python's object lifecycle and can be used to perform any necessary cleanup operations before an object is removed from memory."
      ],
      "metadata": {
        "id": "vbpcMVJsofqY"
      }
    },
    {
      "cell_type": "markdown",
      "source": [
        "19. What is the difference between @staticmethod and @classmethod in Python?\n",
        "\n",
        " @staticmethod-A static method is a method that is bound to the class, but it doesn't operate on the class or instance. It doesn't take self or cls as its first argument. It is simply a function that is logically associated with the class.\n",
        "\n",
        " @classmethod-A class method is a method that is bound to the class rather than the instance of the class. It is used to operate on the class itself (rather than an instance), and it takes the class as its first argument (commonly named cls), instead of the instance (self).\n"
      ],
      "metadata": {
        "id": "8_vAxmpIofxD"
      }
    },
    {
      "cell_type": "code",
      "source": [
        "#short example of staticmethod\n",
        "class Math:\n",
        "  @staticmethod #The method that takes no argument.\n",
        "  def add(a,b):\n",
        "    return a+b"
      ],
      "metadata": {
        "id": "uYxg249XAUTL"
      },
      "execution_count": 11,
      "outputs": []
    },
    {
      "cell_type": "code",
      "source": [
        "Math.add(2,4)"
      ],
      "metadata": {
        "colab": {
          "base_uri": "https://localhost:8080/"
        },
        "id": "GIHPVR1nAUfK",
        "outputId": "f30da36e-7267-49dd-be8f-21e3f5fe0e46"
      },
      "execution_count": 12,
      "outputs": [
        {
          "output_type": "execute_result",
          "data": {
            "text/plain": [
              "6"
            ]
          },
          "metadata": {},
          "execution_count": 12
        }
      ]
    },
    {
      "cell_type": "code",
      "source": [
        "#short example of classmethod\n",
        "class Math:\n",
        "  @classmethod\n",
        "  def add(cls,a,b):\n",
        "    return cls.__name__, a+b"
      ],
      "metadata": {
        "id": "g9OF3eN4AU0P"
      },
      "execution_count": 13,
      "outputs": []
    },
    {
      "cell_type": "code",
      "source": [
        "Math.add(2,5)"
      ],
      "metadata": {
        "colab": {
          "base_uri": "https://localhost:8080/"
        },
        "id": "y9IDxvQaAU_O",
        "outputId": "688eee66-f16e-4371-8923-0f59ae0e3b65"
      },
      "execution_count": 15,
      "outputs": [
        {
          "output_type": "execute_result",
          "data": {
            "text/plain": [
              "('Math', 7)"
            ]
          },
          "metadata": {},
          "execution_count": 15
        }
      ]
    },
    {
      "cell_type": "markdown",
      "source": [
        "## Practical"
      ],
      "metadata": {
        "id": "AGUe2Xe6BmpT"
      }
    },
    {
      "cell_type": "code",
      "source": [
        "#1. Create a parent class Animal with a method speak() that prints a generic message. Create a child class Dog\n",
        "#that overrides the speak() method to print \"Bark!\".\n",
        "# Parent class Animal\n",
        "class Animal:\n",
        "    def speak(self):\n",
        "        print(\"Every animal has a sound.\")\n",
        "class Dog(Animal):\n",
        "    def speak(self):\n",
        "        print(\"Dog is barking.\")\n",
        "animal = Animal()\n",
        "dog = Dog()"
      ],
      "metadata": {
        "id": "GFAub_8yBpz-"
      },
      "execution_count": 1,
      "outputs": []
    },
    {
      "cell_type": "code",
      "source": [
        "animal.speak()  # Output: Every animal has a sound."
      ],
      "metadata": {
        "colab": {
          "base_uri": "https://localhost:8080/"
        },
        "id": "9nTYiFJNxvM2",
        "outputId": "c11a8f10-f734-49fd-e49f-5239d7e13775"
      },
      "execution_count": 2,
      "outputs": [
        {
          "output_type": "stream",
          "name": "stdout",
          "text": [
            "Every animal has a sound.\n"
          ]
        }
      ]
    },
    {
      "cell_type": "code",
      "source": [
        "dog.speak()  # Output: Dog is barking."
      ],
      "metadata": {
        "colab": {
          "base_uri": "https://localhost:8080/"
        },
        "id": "Elm-0jwSxv2p",
        "outputId": "7a06482e-ff44-443d-f472-db863f20097e"
      },
      "execution_count": 3,
      "outputs": [
        {
          "output_type": "stream",
          "name": "stdout",
          "text": [
            "Dog is barking.\n"
          ]
        }
      ]
    },
    {
      "cell_type": "code",
      "source": [
        "#2. Write a program to create an abstract class Shape with a method area(). Derive classes Circle and Rectangle\n",
        "#from it and implement the area() method in both.\n",
        "from abc import ABC, abstractmethod\n",
        "import math\n",
        "class shape(ABC):\n",
        "  @abstractmethod\n",
        "  def calculate_area(self):\n",
        "    pass\n",
        "class Circle(shape):\n",
        "  def __init__(self, radius):\n",
        "        self.radius = radius\n",
        "  def calculate_area(self):\n",
        "        return math.pi * (self.radius ** 2)\n",
        "class Rectangle(shape):\n",
        "  def __init__(self, length, width):\n",
        "        self.length = length\n",
        "        self.width = width\n",
        "  def calculate_area(self):\n",
        "        return self.length * self.width"
      ],
      "metadata": {
        "id": "bJQzO4_gxv5d"
      },
      "execution_count": 12,
      "outputs": []
    },
    {
      "cell_type": "code",
      "source": [
        "circle=Circle(7)\n",
        "rectangle=Rectangle(23,12)\n",
        "print(\"The area of circle is\",circle.calculate_area())\n",
        "print(\"The area of rectangle is\",rectangle.calculate_area())"
      ],
      "metadata": {
        "colab": {
          "base_uri": "https://localhost:8080/"
        },
        "id": "lpbJgDPsxv79",
        "outputId": "634f42f9-0203-415f-c118-baa840b50c7e"
      },
      "execution_count": 20,
      "outputs": [
        {
          "output_type": "stream",
          "name": "stdout",
          "text": [
            "The area of circle is 153.93804002589985\n",
            "The area of rectangle is 276\n"
          ]
        }
      ]
    },
    {
      "cell_type": "code",
      "source": [
        "#3. Implement a multi-level inheritance scenario where a class Vehicle has an attribute type. Derive a class Car\n",
        "#and further derive a class ElectricCar that adds a battery attribute.\n",
        "class Vehicle:\n",
        "    def __init__(self, vehicle_type):\n",
        "        self.vehicle_type = vehicle_type\n",
        "\n",
        "    def display_type(self):\n",
        "        print(f\"Vehicle Type: {self.vehicle_type}\")\n",
        "\n",
        "class Car(Vehicle):\n",
        "    def __init__(self, vehicle_type, brand):\n",
        "        super().__init__(vehicle_type)\n",
        "        self.brand = brand\n",
        "\n",
        "    def display_info(self):\n",
        "        print(f\"Brand: {self.brand}\")\n",
        "\n",
        "class ElectricCar(Car):\n",
        "    def __init__(self, vehicle_type, brand, battery_capacity):\n",
        "        super().__init__(vehicle_type, brand)\n",
        "        self.battery_capacity = battery_capacity\n",
        "\n",
        "    def display_battery_info(self):\n",
        "        print(f\"Battery Capacity: {self.battery_capacity} kWh\")"
      ],
      "metadata": {
        "id": "lfv7OdFMxv-x"
      },
      "execution_count": 21,
      "outputs": []
    },
    {
      "cell_type": "code",
      "source": [
        "# Creating an instance of ElectricCar\n",
        "electric_car = ElectricCar(\"Electric Vehicle\", \"TATA Nexon\", 80)"
      ],
      "metadata": {
        "id": "NtHXNW4I21FP"
      },
      "execution_count": 25,
      "outputs": []
    },
    {
      "cell_type": "code",
      "source": [
        "# Displaying information using methods from all classes\n",
        "electric_car.display_type()\n",
        "electric_car.display_info()\n",
        "electric_car.display_battery_info()"
      ],
      "metadata": {
        "colab": {
          "base_uri": "https://localhost:8080/"
        },
        "id": "tyggjMoF3oKD",
        "outputId": "84684c6f-434e-4c17-c504-b94b24d2d8c9"
      },
      "execution_count": 26,
      "outputs": [
        {
          "output_type": "stream",
          "name": "stdout",
          "text": [
            "Vehicle Type: Electric Vehicle\n",
            "Brand: TATA Nexon\n",
            "Battery Capacity: 80 kWh\n"
          ]
        }
      ]
    },
    {
      "cell_type": "code",
      "source": [
        "#4. Implement a multi-level inheritance scenario where a class Vehicle has an attribute type. Derive a class Car\n",
        "#and further derive a class ElectricCar that adds a battery attribute. (This que is repeated.)"
      ],
      "metadata": {
        "id": "2O9b4rQG3oM0"
      },
      "execution_count": 20,
      "outputs": []
    },
    {
      "cell_type": "code",
      "source": [
        "#5. Write a program to demonstrate encapsulation by creating a class BankAccount with private attributes\n",
        "#balance and methods to deposit, withdraw, and check balance.\n",
        "class BankAccount:\n",
        "    def __init__(self, initial_balance=0):\n",
        "        self.__balance = initial_balance\n",
        "\n",
        "    def deposit(self, amount):\n",
        "        if amount > 0:\n",
        "            self.__balance += amount\n",
        "            print(f\"Deposited: ₹{amount}\")\n",
        "        else:\n",
        "            print(\"Deposit amount must be positive.\")\n",
        "\n",
        "    def withdraw(self, amount):\n",
        "        if amount > 0 and amount <= self.__balance:\n",
        "            self.__balance -= amount\n",
        "            print(f\"Withdrew: ₹{amount}\")\n",
        "        else:\n",
        "            print(\"Invalid withdrawal amount or insufficient funds.\")\n",
        "\n",
        "    def check_balance(self):\n",
        "        print(f\"Balance: ₹{self.__balance}\")"
      ],
      "metadata": {
        "id": "91okBbKQ3oQ2"
      },
      "execution_count": 27,
      "outputs": []
    },
    {
      "cell_type": "code",
      "source": [
        "account=BankAccount(10000)\n",
        "account.check_balance()\n",
        "account.deposit(1245)\n",
        "account.withdraw(7000)"
      ],
      "metadata": {
        "colab": {
          "base_uri": "https://localhost:8080/"
        },
        "id": "13i6tpl221IK",
        "outputId": "02914e1f-967c-4eee-d377-ac33997743d0"
      },
      "execution_count": 30,
      "outputs": [
        {
          "output_type": "stream",
          "name": "stdout",
          "text": [
            "Balance: ₹10000\n",
            "Deposited: ₹1245\n",
            "Withdrew: ₹7000\n"
          ]
        }
      ]
    },
    {
      "cell_type": "code",
      "source": [
        "#6. Demonstrate runtime polymorphism using a method play() in a base class Instrument. Derive classes Guitar\n",
        "#and Piano that implement their own version of play().\n",
        "class Instrument:\n",
        "    def play(self):\n",
        "        print(\"The instrument is being played.\")\n",
        "\n",
        "class Guitar(Instrument):\n",
        "    def play(self):\n",
        "        print(\"Strumming the guitar.\")\n",
        "\n",
        "class Piano(Instrument):\n",
        "    def play(self):\n",
        "        print(\"Playing the piano.\")\n",
        "\n",
        "def demonstrate_play(instrument: Instrument):\n",
        "    instrument.play()\n",
        "\n",
        "guitar = Guitar()\n",
        "piano = Piano()\n",
        "demonstrate_play(guitar)  # Output: Strumming the guitar.\n",
        "demonstrate_play(piano)   # Output: Playing the piano.\n"
      ],
      "metadata": {
        "colab": {
          "base_uri": "https://localhost:8080/"
        },
        "id": "2Mbeu0V3xwA6",
        "outputId": "89535459-5769-471a-a5b4-d4db29cb6a8c"
      },
      "execution_count": 31,
      "outputs": [
        {
          "output_type": "stream",
          "name": "stdout",
          "text": [
            "Strumming the guitar.\n",
            "Playing the piano.\n"
          ]
        }
      ]
    },
    {
      "cell_type": "code",
      "source": [
        "#7. Create a class MathOperations with a class method add_numbers() to add two numbers and a static\n",
        "#method subtract_numbers() to subtract two numbers.\n",
        "class MathOperations:\n",
        "\n",
        "    # Class method to add two numbers\n",
        "    @classmethod\n",
        "    def add_numbers(cls, a, b):\n",
        "        return a + b\n",
        "\n",
        "    # Static method to subtract two numbers\n",
        "    @staticmethod\n",
        "    def subtract_numbers(a, b):\n",
        "        return a - b"
      ],
      "metadata": {
        "id": "jMZMzfOr16ex"
      },
      "execution_count": 32,
      "outputs": []
    },
    {
      "cell_type": "code",
      "source": [
        "result=MathOperations.add_numbers(15,10)\n",
        "print(f\"The sum of two numbers is {result}.\")"
      ],
      "metadata": {
        "colab": {
          "base_uri": "https://localhost:8080/"
        },
        "id": "uT852sPq16hh",
        "outputId": "fd0816d9-35e2-468c-d42d-1cb796720eea"
      },
      "execution_count": 39,
      "outputs": [
        {
          "output_type": "stream",
          "name": "stdout",
          "text": [
            "The sum of two numbers is 25.\n"
          ]
        }
      ]
    },
    {
      "cell_type": "code",
      "source": [
        "result=MathOperations.subtract_numbers(15,10)\n",
        "print(f\"The subtraction of two numbers is {result}.\")"
      ],
      "metadata": {
        "colab": {
          "base_uri": "https://localhost:8080/"
        },
        "id": "ZatY7oxX16kH",
        "outputId": "a4de4613-eb61-420b-b9f1-0d064b323706"
      },
      "execution_count": 40,
      "outputs": [
        {
          "output_type": "stream",
          "name": "stdout",
          "text": [
            "The subtraction of two numbers is 5.\n"
          ]
        }
      ]
    },
    {
      "cell_type": "code",
      "source": [
        "#8. Implement a class Person with a class method to count the total number of persons created.\n",
        "class Person:\n",
        "    total_persons = 0\n",
        "\n",
        "    def __init__(self, name, age):\n",
        "        self.name = name\n",
        "        self.age = age\n",
        "        Person.total_persons += 1\n",
        "\n",
        "    @classmethod\n",
        "    def count_persons(cls):\n",
        "        return cls.total_persons"
      ],
      "metadata": {
        "id": "FcldSbnm8E0C"
      },
      "execution_count": 41,
      "outputs": []
    },
    {
      "cell_type": "code",
      "source": [
        "# Creating instances of Person\n",
        "person1 = Person(\"Vansh\", 26)\n",
        "person2 = Person(\"Ajay\", 25)\n",
        "person3 = Person(\"Prince\", 22)"
      ],
      "metadata": {
        "id": "n6D1-w8V8E3G"
      },
      "execution_count": 42,
      "outputs": []
    },
    {
      "cell_type": "code",
      "source": [
        "print(f\"Total persons created: {Person.count_persons()}\")  # Output: Total persons created: 3"
      ],
      "metadata": {
        "colab": {
          "base_uri": "https://localhost:8080/"
        },
        "id": "epfkaZs48E6o",
        "outputId": "fcd1cafd-f2a3-45af-af6c-4e0fd009f217"
      },
      "execution_count": 43,
      "outputs": [
        {
          "output_type": "stream",
          "name": "stdout",
          "text": [
            "Total persons created: 3\n"
          ]
        }
      ]
    },
    {
      "cell_type": "code",
      "source": [
        "#9. Write a class Fraction with attributes numerator and denominator. Override the str method to display the\n",
        "#fraction as \"numerator/denominator\".\n",
        "class Fraction:\n",
        "    def __init__(self, numerator, denominator):\n",
        "        self.numerator = numerator\n",
        "        self.denominator = denominator\n",
        "\n",
        "    def __str__(self):\n",
        "        return f\"{self.numerator}/{self.denominator}\""
      ],
      "metadata": {
        "id": "xSvOz6-n8E88"
      },
      "execution_count": 44,
      "outputs": []
    },
    {
      "cell_type": "code",
      "source": [
        "frac=Fraction(2,3)\n",
        "print(f'This is fraction of 2 numbers: {frac}')"
      ],
      "metadata": {
        "colab": {
          "base_uri": "https://localhost:8080/"
        },
        "id": "jB7yt0ZX-VA4",
        "outputId": "a95411d9-9c29-4f1f-861c-c19b0356e3f7"
      },
      "execution_count": 50,
      "outputs": [
        {
          "output_type": "stream",
          "name": "stdout",
          "text": [
            "This is fraction of 2 numbers: 2/3\n"
          ]
        }
      ]
    },
    {
      "cell_type": "code",
      "source": [
        "#10. Demonstrate operator overloading by creating a class Vector and overriding the add method to add two vectors."
      ],
      "metadata": {
        "id": "K_YqyRLq-VDD"
      },
      "execution_count": 51,
      "outputs": []
    },
    {
      "cell_type": "code",
      "source": [
        "#11. Create a class Person with attributes name and age. Add a method greet() that prints \"Hello, my name is\n",
        "#{name} and I am {age} years old.\"\n",
        "class Person:\n",
        "    def __init__(self, name, age):\n",
        "        self.name = name\n",
        "        self.age = age\n",
        "\n",
        "    def greet(self):\n",
        "        print(f\"Hello, my name is {self.name} and I am {self.age} years old.\")"
      ],
      "metadata": {
        "id": "kznwT18uImK_"
      },
      "execution_count": 52,
      "outputs": []
    },
    {
      "cell_type": "code",
      "source": [
        "person1=Person('Vansh', 26)\n",
        "person1.greet()"
      ],
      "metadata": {
        "colab": {
          "base_uri": "https://localhost:8080/"
        },
        "id": "4t6B3jpQImRn",
        "outputId": "bf572c63-ea02-42e3-922a-194405f2e4c4"
      },
      "execution_count": 53,
      "outputs": [
        {
          "output_type": "stream",
          "name": "stdout",
          "text": [
            "Hello, my name is Vansh and I am 26 years old.\n"
          ]
        }
      ]
    },
    {
      "cell_type": "code",
      "source": [
        "#12. Implement a class Student with attributes name and grades. Create a method average_grade() to compute\n",
        "#the average of the grades.\n",
        "class Student:\n",
        "    def __init__(self, name, grades):\n",
        "        self.name = name\n",
        "        self.grades = grades\n",
        "\n",
        "    def average_grade(self):\n",
        "        if len(self.grades) > 0:\n",
        "            return sum(self.grades) / len(self.grades)\n",
        "        else:\n",
        "            return 0"
      ],
      "metadata": {
        "id": "D6hy4tJPImVI"
      },
      "execution_count": 60,
      "outputs": []
    },
    {
      "cell_type": "code",
      "source": [
        "Avg_grades=Student('Vansh', [90,80,70,25,65,78,98])\n",
        "average=Avg_grades.average_grade()\n",
        "print(f\"{Avg_grades.name}'s average grade: {average:.2f}\")"
      ],
      "metadata": {
        "colab": {
          "base_uri": "https://localhost:8080/"
        },
        "id": "EfvqHipCImYz",
        "outputId": "eaf60e29-a5c8-4f08-a277-7a31b1a7efce"
      },
      "execution_count": 61,
      "outputs": [
        {
          "output_type": "stream",
          "name": "stdout",
          "text": [
            "Vansh's average grade: 72.29\n"
          ]
        }
      ]
    },
    {
      "cell_type": "code",
      "source": [
        "#13. Create a class Rectangle with methods set_dimensions() to set the dimensions and area() to calculate the area.\n",
        "class Rectangle:\n",
        "    def __init__(self):\n",
        "        self.length = 0\n",
        "        self.width = 0\n",
        "\n",
        "    def set_dimensions(self, length, width):\n",
        "        self.length = length\n",
        "        self.width = width\n",
        "\n",
        "    def area(self):\n",
        "        return self.length * self.width"
      ],
      "metadata": {
        "id": "aqK1E68mHdEL"
      },
      "execution_count": 63,
      "outputs": []
    },
    {
      "cell_type": "code",
      "source": [
        "Rect=Rectangle()\n",
        "Rect.set_dimensions(20,12)\n",
        "print(f'You will get the area of rectangle {Rect.area()}')"
      ],
      "metadata": {
        "colab": {
          "base_uri": "https://localhost:8080/"
        },
        "id": "Q9uY48BbHdGs",
        "outputId": "49f1a9ed-197a-4055-8391-77ece9e299d7"
      },
      "execution_count": 67,
      "outputs": [
        {
          "output_type": "stream",
          "name": "stdout",
          "text": [
            "You will get the area of rectangle 240\n"
          ]
        }
      ]
    },
    {
      "cell_type": "code",
      "source": [
        "#14. Create a class Employee with a method calculate_salary() that computes the salary based on hours worked\n",
        "#and hourly rate. Create a derived class Manager that adds a bonus to the salary."
      ],
      "metadata": {
        "id": "lph5KjerHdJA"
      },
      "execution_count": 43,
      "outputs": []
    },
    {
      "cell_type": "code",
      "source": [
        "#15. Create a class Product with attributes name, price, and quantity. Implement a method total_price() that calculates the total price of the product.\n",
        "class Product:\n",
        "    def __init__(self, name, price, quantity):\n",
        "        self.name = name\n",
        "        self.price = price\n",
        "        self.quantity = quantity\n",
        "\n",
        "    def total_price(self):\n",
        "        return self.price * self.quantity"
      ],
      "metadata": {
        "id": "fYdEFCZ-HdLt"
      },
      "execution_count": 68,
      "outputs": []
    },
    {
      "cell_type": "code",
      "source": [
        "prod=Product(\"Personal Computer\",50000,2)\n",
        "print(f\"The total price of {prod.name} of which quantity is {prod.quantity}, is {prod.total_price()}.\")"
      ],
      "metadata": {
        "colab": {
          "base_uri": "https://localhost:8080/"
        },
        "id": "OzMeTbbUHdOO",
        "outputId": "2136bcc0-1ebf-482e-aa68-51e7b6f0f187"
      },
      "execution_count": 70,
      "outputs": [
        {
          "output_type": "stream",
          "name": "stdout",
          "text": [
            "The total price of Personal Computer of which quantity is 2, is 100000.\n"
          ]
        }
      ]
    },
    {
      "cell_type": "code",
      "source": [
        "#16. Create a class Animal with an abstract method sound(). Create two derived classes Cow and Sheep that implement the sound() method.\n",
        "from abc import ABC, abstractmethod\n",
        "class Animal(ABC):\n",
        "    @abstractmethod\n",
        "    def sound(self):\n",
        "        pass\n",
        "class Cow(Animal):\n",
        "    def sound(self):\n",
        "        return(\"Moo!\")\n",
        "class Sheep(Animal):\n",
        "    def sound(self):\n",
        "        return(\"Baa!\")"
      ],
      "metadata": {
        "id": "b3cnoQAwOOes"
      },
      "execution_count": 71,
      "outputs": []
    },
    {
      "cell_type": "code",
      "source": [
        "cow=Cow()\n",
        "sheep=Sheep()\n",
        "print(f\"The sound of cow is {cow.sound()}\")\n",
        "print(f\"The sound of sheep is {sheep.sound()}\")"
      ],
      "metadata": {
        "colab": {
          "base_uri": "https://localhost:8080/"
        },
        "id": "E47ZTRBsOOhW",
        "outputId": "15586784-fc4c-4ca4-c7a1-508a22f6b627"
      },
      "execution_count": 72,
      "outputs": [
        {
          "output_type": "stream",
          "name": "stdout",
          "text": [
            "The sound of cow is Moo!\n",
            "The sound of sheep is Baa!\n"
          ]
        }
      ]
    },
    {
      "cell_type": "code",
      "source": [
        "#17. Create a class Book with attributes title, author, and year_published. Add a method get_book_info() that\n",
        "#returns a formatted string with the book's details.\n",
        "class Book:\n",
        "    def __init__(self, title, author, year_published):\n",
        "        self.title = title\n",
        "        self.author = author\n",
        "        self.year_published = year_published\n",
        "\n",
        "    def get_book_info(self):\n",
        "        return f\"Title: {self.title}\\nAuthor: {self.author}\\nYear Published: {self.year_published}\""
      ],
      "metadata": {
        "id": "K1NNGjOhOOj0"
      },
      "execution_count": 73,
      "outputs": []
    },
    {
      "cell_type": "code",
      "source": [
        "book=Book(\"Bhagavad Gita\", \"Veda Vyas\", 'b/w 2nd and 1st century BC')\n",
        "print(book.get_book_info())"
      ],
      "metadata": {
        "colab": {
          "base_uri": "https://localhost:8080/"
        },
        "id": "z2-C6dJ0OOn8",
        "outputId": "cf3ee4d4-86fc-41c3-fbf1-10f4732d0db6"
      },
      "execution_count": 76,
      "outputs": [
        {
          "output_type": "stream",
          "name": "stdout",
          "text": [
            "Title: Bhagavad Gita\n",
            "Author: Veda Vyas\n",
            "Year Published: b/w 2nd and 1st century BC\n"
          ]
        }
      ]
    },
    {
      "cell_type": "code",
      "source": [
        "#18. Create a class House with attributes address and price. Create a derived class Mansion that adds an attribute number_of_rooms.\n",
        "class House:\n",
        "    def __init__(self, address, price):\n",
        "        self.address = address\n",
        "        self.price = price\n",
        "\n",
        "class Mansion(House):\n",
        "    def __init__(self, address, price, number_of_rooms):\n",
        "        super().__init__(address, price)\n",
        "        self.number_of_rooms = number_of_rooms"
      ],
      "metadata": {
        "id": "v879U43zSBtn"
      },
      "execution_count": 77,
      "outputs": []
    },
    {
      "cell_type": "code",
      "source": [
        "mansion=Mansion('A12 Krishna Nagar, Shahdara','2.5Cr',4)\n",
        "print(f'Mansion Address: {mansion.address}\\nMansion Price: {mansion.price}\\nMansion Rooms: {mansion.number_of_rooms}')"
      ],
      "metadata": {
        "colab": {
          "base_uri": "https://localhost:8080/"
        },
        "id": "Hkrp6ZXLSBwe",
        "outputId": "c53a5c6e-351f-4063-bb5f-71392805e9ab"
      },
      "execution_count": 79,
      "outputs": [
        {
          "output_type": "stream",
          "name": "stdout",
          "text": [
            "Mansion Address: A12 Krishna Nagar, Shahdara\n",
            "Mansion Price: 2.5Cr\n",
            "Mansion Rooms: 4\n"
          ]
        }
      ]
    }
  ]
}